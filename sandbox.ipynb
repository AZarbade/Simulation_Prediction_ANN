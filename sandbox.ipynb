{
 "cells": [
  {
   "cell_type": "code",
   "execution_count": 1,
   "metadata": {},
   "outputs": [],
   "source": [
    "import pandas as pd\n",
    "import numpy as np"
   ]
  },
  {
   "cell_type": "code",
   "execution_count": 15,
   "metadata": {},
   "outputs": [
    {
     "name": "stdout",
     "output_type": "stream",
     "text": [
      "Checking NaNs:\n",
      "LD                 0\n",
      "Velocity (km/s)    0\n",
      "a (degrees)        0\n",
      "$ (degrees)        0\n",
      "DI                 0\n",
      "dtype: int64\n",
      "Checking zeros:\n",
      "   0       0.00007\n",
      "1       0.00580\n",
      "2       0.01259\n",
      "3       0.02086\n",
      "4       0.02278\n",
      "         ...   \n",
      "1630    0.30280\n",
      "1631    0.54222\n",
      "1632    0.72227\n",
      "1633    0.83957\n",
      "1634    0.92741\n",
      "Name: DI, Length: 1635, dtype: float64 has: 13 zeros\n"
     ]
    },
    {
     "data": {
      "text/html": [
       "<div>\n",
       "<style scoped>\n",
       "    .dataframe tbody tr th:only-of-type {\n",
       "        vertical-align: middle;\n",
       "    }\n",
       "\n",
       "    .dataframe tbody tr th {\n",
       "        vertical-align: top;\n",
       "    }\n",
       "\n",
       "    .dataframe thead th {\n",
       "        text-align: right;\n",
       "    }\n",
       "</style>\n",
       "<table border=\"1\" class=\"dataframe\">\n",
       "  <thead>\n",
       "    <tr style=\"text-align: right;\">\n",
       "      <th></th>\n",
       "      <th>Velocity (km/s)</th>\n",
       "      <th>a (degrees)</th>\n",
       "      <th>$ (degrees)</th>\n",
       "      <th>DI</th>\n",
       "      <th>Imputed</th>\n",
       "      <th>LD_1.0</th>\n",
       "      <th>LD_2.0</th>\n",
       "      <th>LD_4.0</th>\n",
       "    </tr>\n",
       "  </thead>\n",
       "  <tbody>\n",
       "    <tr>\n",
       "      <th>0</th>\n",
       "      <td>0.25</td>\n",
       "      <td>90.0</td>\n",
       "      <td>75.0</td>\n",
       "      <td>0.00007</td>\n",
       "      <td>0.0</td>\n",
       "      <td>1</td>\n",
       "      <td>0</td>\n",
       "      <td>0</td>\n",
       "    </tr>\n",
       "    <tr>\n",
       "      <th>1</th>\n",
       "      <td>0.25</td>\n",
       "      <td>90.0</td>\n",
       "      <td>60.0</td>\n",
       "      <td>0.00580</td>\n",
       "      <td>0.0</td>\n",
       "      <td>1</td>\n",
       "      <td>0</td>\n",
       "      <td>0</td>\n",
       "    </tr>\n",
       "    <tr>\n",
       "      <th>2</th>\n",
       "      <td>0.25</td>\n",
       "      <td>90.0</td>\n",
       "      <td>45.0</td>\n",
       "      <td>0.01259</td>\n",
       "      <td>0.0</td>\n",
       "      <td>1</td>\n",
       "      <td>0</td>\n",
       "      <td>0</td>\n",
       "    </tr>\n",
       "    <tr>\n",
       "      <th>3</th>\n",
       "      <td>0.25</td>\n",
       "      <td>90.0</td>\n",
       "      <td>30.0</td>\n",
       "      <td>0.02086</td>\n",
       "      <td>0.0</td>\n",
       "      <td>1</td>\n",
       "      <td>0</td>\n",
       "      <td>0</td>\n",
       "    </tr>\n",
       "    <tr>\n",
       "      <th>4</th>\n",
       "      <td>0.25</td>\n",
       "      <td>90.0</td>\n",
       "      <td>15.0</td>\n",
       "      <td>0.02278</td>\n",
       "      <td>0.0</td>\n",
       "      <td>1</td>\n",
       "      <td>0</td>\n",
       "      <td>0</td>\n",
       "    </tr>\n",
       "  </tbody>\n",
       "</table>\n",
       "</div>"
      ],
      "text/plain": [
       "   Velocity (km/s)  a (degrees)  $ (degrees)       DI  Imputed  LD_1.0  \\\n",
       "0             0.25         90.0         75.0  0.00007      0.0       1   \n",
       "1             0.25         90.0         60.0  0.00580      0.0       1   \n",
       "2             0.25         90.0         45.0  0.01259      0.0       1   \n",
       "3             0.25         90.0         30.0  0.02086      0.0       1   \n",
       "4             0.25         90.0         15.0  0.02278      0.0       1   \n",
       "\n",
       "   LD_2.0  LD_4.0  \n",
       "0       0       0  \n",
       "1       0       0  \n",
       "2       0       0  \n",
       "3       0       0  \n",
       "4       0       0  "
      ]
     },
     "execution_count": 15,
     "metadata": {},
     "output_type": "execute_result"
    }
   ],
   "source": [
    "from src.dataUtils import impute\n",
    "\n",
    "dataset = './data/SIDI_Full.csv'\n",
    "df = impute.impute(dataset, cols='DI')\n",
    "df = pd.get_dummies(df, columns=['LD'])\n",
    "\n",
    "df.head()"
   ]
  },
  {
   "cell_type": "code",
   "execution_count": 18,
   "metadata": {},
   "outputs": [
    {
     "data": {
      "text/plain": [
       "tensor([[  0.2500,  90.0000,  75.0000,  ...,   1.0000,   0.0000,   0.0000],\n",
       "        [  0.2500,  90.0000,  60.0000,  ...,   1.0000,   0.0000,   0.0000],\n",
       "        [  0.2500,  90.0000,  45.0000,  ...,   1.0000,   0.0000,   0.0000],\n",
       "        ...,\n",
       "        [  2.1500, -90.0000,  45.0000,  ...,   0.0000,   0.0000,   1.0000],\n",
       "        [  2.1500, -90.0000,  30.0000,  ...,   0.0000,   0.0000,   1.0000],\n",
       "        [  2.1500, -90.0000,  15.0000,  ...,   0.0000,   0.0000,   1.0000]],\n",
       "       dtype=torch.float64)"
      ]
     },
     "execution_count": 18,
     "metadata": {},
     "output_type": "execute_result"
    }
   ],
   "source": [
    "import torch\n",
    "\n",
    "n_data = df.to_numpy()\n",
    "t_data = torch.tensor(n_data)\n",
    "t_data"
   ]
  },
  {
   "cell_type": "code",
   "execution_count": 19,
   "metadata": {},
   "outputs": [
    {
     "data": {
      "text/plain": [
       "tensor([1.2068e+00, 1.8349e-01, 3.7569e+01, 3.8409e-01, 7.9511e-03, 3.3333e-01,\n",
       "        3.3333e-01, 3.3333e-01], dtype=torch.float64)"
      ]
     },
     "execution_count": 19,
     "metadata": {},
     "output_type": "execute_result"
    }
   ],
   "source": [
    "data_mean = torch.mean(t_data, dim=0)\n",
    "data_mean"
   ]
  },
  {
   "cell_type": "code",
   "execution_count": 20,
   "metadata": {},
   "outputs": [
    {
     "data": {
      "text/plain": [
       "tensor([3.9922e-01, 3.1425e+03, 6.5527e+02, 8.2845e-02, 7.8927e-03, 2.2236e-01,\n",
       "        2.2236e-01, 2.2236e-01], dtype=torch.float64)"
      ]
     },
     "execution_count": 20,
     "metadata": {},
     "output_type": "execute_result"
    }
   ],
   "source": [
    "data_var = torch.var(t_data, dim=0)\n",
    "data_var"
   ]
  },
  {
   "cell_type": "code",
   "execution_count": 22,
   "metadata": {},
   "outputs": [
    {
     "data": {
      "text/plain": [
       "tensor([[-1.5144,  1.6022,  1.4623,  ...,  1.4138, -0.7069, -0.7069],\n",
       "        [-1.5144,  1.6022,  0.8763,  ...,  1.4138, -0.7069, -0.7069],\n",
       "        [-1.5144,  1.6022,  0.2903,  ...,  1.4138, -0.7069, -0.7069],\n",
       "        ...,\n",
       "        [ 1.4927, -1.6087,  0.2903,  ..., -0.7069, -0.7069,  1.4138],\n",
       "        [ 1.4927, -1.6087, -0.2957,  ..., -0.7069, -0.7069,  1.4138],\n",
       "        [ 1.4927, -1.6087, -0.8817,  ..., -0.7069, -0.7069,  1.4138]],\n",
       "       dtype=torch.float64)"
      ]
     },
     "execution_count": 22,
     "metadata": {},
     "output_type": "execute_result"
    }
   ],
   "source": [
    "data_norm = (t_data - data_mean) / torch.sqrt(data_var)\n",
    "data_norm"
   ]
  },
  {
   "cell_type": "code",
   "execution_count": 24,
   "metadata": {},
   "outputs": [
    {
     "data": {
      "text/html": [
       "<div>\n",
       "<style scoped>\n",
       "    .dataframe tbody tr th:only-of-type {\n",
       "        vertical-align: middle;\n",
       "    }\n",
       "\n",
       "    .dataframe tbody tr th {\n",
       "        vertical-align: top;\n",
       "    }\n",
       "\n",
       "    .dataframe thead th {\n",
       "        text-align: right;\n",
       "    }\n",
       "</style>\n",
       "<table border=\"1\" class=\"dataframe\">\n",
       "  <thead>\n",
       "    <tr style=\"text-align: right;\">\n",
       "      <th></th>\n",
       "      <th>0</th>\n",
       "      <th>1</th>\n",
       "      <th>2</th>\n",
       "      <th>3</th>\n",
       "      <th>4</th>\n",
       "      <th>5</th>\n",
       "      <th>6</th>\n",
       "      <th>7</th>\n",
       "    </tr>\n",
       "  </thead>\n",
       "  <tbody>\n",
       "    <tr>\n",
       "      <th>0</th>\n",
       "      <td>-1.514384</td>\n",
       "      <td>1.602199</td>\n",
       "      <td>1.462256</td>\n",
       "      <td>-1.334202</td>\n",
       "      <td>-0.089498</td>\n",
       "      <td>1.413781</td>\n",
       "      <td>-0.706891</td>\n",
       "      <td>-0.706891</td>\n",
       "    </tr>\n",
       "    <tr>\n",
       "      <th>1</th>\n",
       "      <td>-1.514384</td>\n",
       "      <td>1.602199</td>\n",
       "      <td>0.876279</td>\n",
       "      <td>-1.314294</td>\n",
       "      <td>-0.089498</td>\n",
       "      <td>1.413781</td>\n",
       "      <td>-0.706891</td>\n",
       "      <td>-0.706891</td>\n",
       "    </tr>\n",
       "    <tr>\n",
       "      <th>2</th>\n",
       "      <td>-1.514384</td>\n",
       "      <td>1.602199</td>\n",
       "      <td>0.290301</td>\n",
       "      <td>-1.290704</td>\n",
       "      <td>-0.089498</td>\n",
       "      <td>1.413781</td>\n",
       "      <td>-0.706891</td>\n",
       "      <td>-0.706891</td>\n",
       "    </tr>\n",
       "    <tr>\n",
       "      <th>3</th>\n",
       "      <td>-1.514384</td>\n",
       "      <td>1.602199</td>\n",
       "      <td>-0.295677</td>\n",
       "      <td>-1.261971</td>\n",
       "      <td>-0.089498</td>\n",
       "      <td>1.413781</td>\n",
       "      <td>-0.706891</td>\n",
       "      <td>-0.706891</td>\n",
       "    </tr>\n",
       "    <tr>\n",
       "      <th>4</th>\n",
       "      <td>-1.514384</td>\n",
       "      <td>1.602199</td>\n",
       "      <td>-0.881655</td>\n",
       "      <td>-1.255301</td>\n",
       "      <td>-0.089498</td>\n",
       "      <td>1.413781</td>\n",
       "      <td>-0.706891</td>\n",
       "      <td>-0.706891</td>\n",
       "    </tr>\n",
       "  </tbody>\n",
       "</table>\n",
       "</div>"
      ],
      "text/plain": [
       "          0         1         2         3         4         5         6  \\\n",
       "0 -1.514384  1.602199  1.462256 -1.334202 -0.089498  1.413781 -0.706891   \n",
       "1 -1.514384  1.602199  0.876279 -1.314294 -0.089498  1.413781 -0.706891   \n",
       "2 -1.514384  1.602199  0.290301 -1.290704 -0.089498  1.413781 -0.706891   \n",
       "3 -1.514384  1.602199 -0.295677 -1.261971 -0.089498  1.413781 -0.706891   \n",
       "4 -1.514384  1.602199 -0.881655 -1.255301 -0.089498  1.413781 -0.706891   \n",
       "\n",
       "          7  \n",
       "0 -0.706891  \n",
       "1 -0.706891  \n",
       "2 -0.706891  \n",
       "3 -0.706891  \n",
       "4 -0.706891  "
      ]
     },
     "execution_count": 24,
     "metadata": {},
     "output_type": "execute_result"
    }
   ],
   "source": [
    "data_norm = pd.DataFrame(data_norm)\n",
    "data_norm.head()"
   ]
  }
 ],
 "metadata": {
  "kernelspec": {
   "display_name": "neptune",
   "language": "python",
   "name": "python3"
  },
  "language_info": {
   "codemirror_mode": {
    "name": "ipython",
    "version": 3
   },
   "file_extension": ".py",
   "mimetype": "text/x-python",
   "name": "python",
   "nbconvert_exporter": "python",
   "pygments_lexer": "ipython3",
   "version": "3.10.8"
  },
  "orig_nbformat": 4,
  "vscode": {
   "interpreter": {
    "hash": "cdeafe39e88cfc95dfae4ffd5716e0344782cc0dcd7826081e4724f71c603241"
   }
  }
 },
 "nbformat": 4,
 "nbformat_minor": 2
}
